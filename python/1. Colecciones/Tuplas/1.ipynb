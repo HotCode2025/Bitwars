{
 "cells": [
  {
   "cell_type": "code",
   "execution_count": null,
   "id": "70399ec6",
   "metadata": {},
   "outputs": [
    {
     "name": "stdout",
     "output_type": "stream",
     "text": [
      "[1, 3, 2]\n"
     ]
    }
   ],
   "source": [
    "# Dada la siguiente tupla:\n",
    "\n",
    "tupla = (13, 1, 8, 3, 2, 5, 8) \n",
    "lista = []\n",
    "\n",
    "# Crear una lista que solo incluya los números menores a 5 e imprima por consola  [1, 3, 2]\n",
    "\n",
    "for num in tupla:\n",
    "    if num < 5:\n",
    "        lista.append(num)\n",
    "\n",
    "print(lista)"
   ]
  }
 ],
 "metadata": {
  "kernelspec": {
   "display_name": "Python 3",
   "language": "python",
   "name": "python3"
  },
  "language_info": {
   "codemirror_mode": {
    "name": "ipython",
    "version": 3
   },
   "file_extension": ".py",
   "mimetype": "text/x-python",
   "name": "python",
   "nbconvert_exporter": "python",
   "pygments_lexer": "ipython3",
   "version": "3.11.8"
  }
 },
 "nbformat": 4,
 "nbformat_minor": 5
}
