{
 "cells": [
  {
   "cell_type": "code",
   "execution_count": null,
   "id": "3d418d10",
   "metadata": {},
   "outputs": [],
   "source": [
    "# Teoría\n",
    "# Sintaxis de range()\n",
    "\n",
    "# (inicio <opcional>, fin <requerido>, incremento <opcional>)\n",
    "\n",
    "for i in range(1, 11, 2): # Inicia en 1, termina en 10, con incremento dos\n",
    "    print(i)"
   ]
  },
  {
   "cell_type": "code",
   "execution_count": 2,
   "id": "522f40e2",
   "metadata": {},
   "outputs": [
    {
     "name": "stdout",
     "output_type": "stream",
     "text": [
      "0\n",
      "3\n",
      "6\n",
      "9\n"
     ]
    }
   ],
   "source": [
    "# Ejercicio 1: Iterar un rango de 0 a 10 e imprimir números divisibles entre 3\n",
    "# Ejemplo: 0, 3, 6, 9\n",
    "\n",
    "for i in range(11):\n",
    "    if i % 3 == 0:\n",
    "        print(i)"
   ]
  }
 ],
 "metadata": {
  "kernelspec": {
   "display_name": "Python 3",
   "language": "python",
   "name": "python3"
  },
  "language_info": {
   "codemirror_mode": {
    "name": "ipython",
    "version": 3
   },
   "file_extension": ".py",
   "mimetype": "text/x-python",
   "name": "python",
   "nbconvert_exporter": "python",
   "pygments_lexer": "ipython3",
   "version": "3.11.8"
  }
 },
 "nbformat": 4,
 "nbformat_minor": 5
}
