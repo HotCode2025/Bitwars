{
 "cells": [
  {
   "cell_type": "code",
   "execution_count": 1,
   "id": "c587d3f5",
   "metadata": {},
   "outputs": [
    {
     "name": "stdout",
     "output_type": "stream",
     "text": [
      "3\n",
      "5\n",
      "7\n",
      "9\n"
     ]
    }
   ],
   "source": [
    "# Ejercicio 3: Crear un rango de 3 a 10, pero con incremento de 2 en 2 en lugar de 1 en 1\n",
    "# Ejemplo: 3, 5, 7, 9\n",
    "\n",
    "for i in range(3, 10, 2):\n",
    "    print(i)"
   ]
  }
 ],
 "metadata": {
  "kernelspec": {
   "display_name": "Python 3",
   "language": "python",
   "name": "python3"
  },
  "language_info": {
   "codemirror_mode": {
    "name": "ipython",
    "version": 3
   },
   "file_extension": ".py",
   "mimetype": "text/x-python",
   "name": "python",
   "nbconvert_exporter": "python",
   "pygments_lexer": "ipython3",
   "version": "3.11.8"
  }
 },
 "nbformat": 4,
 "nbformat_minor": 5
}
