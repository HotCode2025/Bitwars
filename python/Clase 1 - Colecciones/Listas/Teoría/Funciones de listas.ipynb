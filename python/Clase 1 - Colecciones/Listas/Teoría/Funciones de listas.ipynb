{
 "cells": [
  {
   "cell_type": "code",
   "execution_count": 5,
   "id": "65bde44e",
   "metadata": {},
   "outputs": [],
   "source": [
    "# append(x): Agrega un elemento al final de la lista\n",
    "\n",
    "nums = [1, 2]\n",
    "nums.append(3) # [1, 2, 3]"
   ]
  },
  {
   "cell_type": "code",
   "execution_count": 6,
   "id": "d7aca568",
   "metadata": {},
   "outputs": [],
   "source": [
    "# extend(iterable): Agrega múltiples elementos de otro iterable\n",
    "\n",
    "nums = [1, 2]\n",
    "nums.extend([3, 4]) # 1, 2, 3, 4 "
   ]
  },
  {
   "cell_type": "code",
   "execution_count": 7,
   "id": "083fb613",
   "metadata": {},
   "outputs": [],
   "source": [
    "# insert(i, x): Inserta un elemento en una posición específica\n",
    "\n",
    "nums = [1, 3]\n",
    "nums.insert(1, 2) # [1, 2, 3]"
   ]
  },
  {
   "cell_type": "code",
   "execution_count": 8,
   "id": "099a4205",
   "metadata": {},
   "outputs": [],
   "source": [
    "# remove(x): Elimina la primera aparición de un valor\n",
    "\n",
    "nums = [1, 2, 2, 3]\n",
    "nums.remove(2) # [1, 2, 3]"
   ]
  },
  {
   "cell_type": "code",
   "execution_count": 9,
   "id": "547bab8b",
   "metadata": {},
   "outputs": [
    {
     "data": {
      "text/plain": [
       "1"
      ]
     },
     "execution_count": 9,
     "metadata": {},
     "output_type": "execute_result"
    }
   ],
   "source": [
    "# pop(i): Elimina y devuelve un elemento por índice (último por defecto)\n",
    "\n",
    "nums = [1, 2, 3]\n",
    "nums.pop() # Devuelve 3 → [1, 2]\n",
    "nums.pop(0) # Devuelve 1 → [2]"
   ]
  },
  {
   "cell_type": "code",
   "execution_count": 10,
   "id": "ee038c8f",
   "metadata": {},
   "outputs": [],
   "source": [
    "# clear(): Elimina todos los elementos \n",
    "\n",
    "nums = [1, 2, 3]\n",
    "nums.clear() # []"
   ]
  },
  {
   "cell_type": "code",
   "execution_count": 11,
   "id": "641b8c31",
   "metadata": {},
   "outputs": [
    {
     "data": {
      "text/plain": [
       "3"
      ]
     },
     "execution_count": 11,
     "metadata": {},
     "output_type": "execute_result"
    }
   ],
   "source": [
    "# index(x[, start[, end]]): Devuelve el índice de la primera aparición\n",
    "\n",
    "nums = [1, 2, 3, 2]\n",
    "nums.index(2)       # 1\n",
    "nums.index(2, 2)    # 3"
   ]
  },
  {
   "cell_type": "code",
   "execution_count": 12,
   "id": "393c4f1f",
   "metadata": {},
   "outputs": [
    {
     "data": {
      "text/plain": [
       "2"
      ]
     },
     "execution_count": 12,
     "metadata": {},
     "output_type": "execute_result"
    }
   ],
   "source": [
    "# count(x): Cuenta cuántas veces aparece un valor\n",
    "\n",
    "nums = [1, 2, 2, 3]\n",
    "nums.count(2) # 2"
   ]
  },
  {
   "cell_type": "code",
   "execution_count": 13,
   "id": "95191dcf",
   "metadata": {},
   "outputs": [],
   "source": [
    "# sort(*, key=None, reverse=False): Ordena la lista en el lugar\n",
    "\n",
    "nums = [3, 1, 2]\n",
    "nums.sort()  # [1, 2, 3]\n",
    "nums.sort(reverse=True)  # [3, 2, 1]"
   ]
  },
  {
   "cell_type": "code",
   "execution_count": 14,
   "id": "fe471f7a",
   "metadata": {},
   "outputs": [],
   "source": [
    "# reverse(): Invierte el orden de los elementos \n",
    "\n",
    "nums = [1, 2, 3]\n",
    "nums.reverse()  # [3, 2, 1]"
   ]
  },
  {
   "cell_type": "code",
   "execution_count": 15,
   "id": "b52f8625",
   "metadata": {},
   "outputs": [],
   "source": [
    "# copy(): Devuelve una copia superficial de la lista\n",
    "\n",
    "nums = [1, 2, 3]\n",
    "new_nums = nums.copy() # [1, 2, 3]"
   ]
  }
 ],
 "metadata": {
  "kernelspec": {
   "display_name": "Python 3",
   "language": "python",
   "name": "python3"
  },
  "language_info": {
   "codemirror_mode": {
    "name": "ipython",
    "version": 3
   },
   "file_extension": ".py",
   "mimetype": "text/x-python",
   "name": "python",
   "nbconvert_exporter": "python",
   "pygments_lexer": "ipython3",
   "version": "3.11.8"
  }
 },
 "nbformat": 4,
 "nbformat_minor": 5
}
