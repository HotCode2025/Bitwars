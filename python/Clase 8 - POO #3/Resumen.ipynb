{
 "cells": [
  {
   "cell_type": "markdown",
   "id": "6991bbbe",
   "metadata": {},
   "source": [
    "## **Encapsulamiento**\n",
    "\n",
    "El encapsulamiento es el principio de ocultar los detalles internos de una clase y restringir el acceso directo a los datos, permitiendo que solo se modifiquen a través de métodos controlados."
   ]
  },
  {
   "cell_type": "markdown",
   "id": "0c4f2bf1",
   "metadata": {},
   "source": [
    "**Sin Encapsulamiento (Problema)**"
   ]
  },
  {
   "cell_type": "code",
   "execution_count": null,
   "id": "eaa62f4a",
   "metadata": {},
   "outputs": [],
   "source": [
    "class CuentaBancaria:\n",
    "    def __init__(self, saldo):\n",
    "        self.saldo = saldo  # Acceso directo público\n",
    "\n",
    "# Uso problemático\n",
    "cuenta = CuentaBancaria(1000)\n",
    "print(cuenta.saldo)  # 1000\n",
    "\n",
    "# Problema: acceso directo sin control\n",
    "cuenta.saldo = -500  # ¡Saldo negativo! No debería ser posible\n",
    "cuenta.saldo = \"hola\"  # ¡Tipo de dato incorrecto!\n",
    "print(cuenta.saldo)  # \"hola\" - completamente inconsistente"
   ]
  },
  {
   "cell_type": "markdown",
   "id": "da207239",
   "metadata": {},
   "source": [
    "**Con Encapsulamiento (Solución)**"
   ]
  },
  {
   "cell_type": "code",
   "execution_count": null,
   "id": "4e545d22",
   "metadata": {},
   "outputs": [],
   "source": [
    "class CuentaBancaria:\n",
    "    def __init__(self, saldo):\n",
    "        self._saldo = saldo  # Atributo \"protegido\" (convención _)\n",
    "    \n",
    "    # GETTER - acceso controlado\n",
    "    @property\n",
    "    def saldo(self):\n",
    "        return self._saldo\n",
    "    \n",
    "    # SETTER - modificación controlada\n",
    "    @saldo.setter\n",
    "    def saldo(self, valor):\n",
    "        if isinstance(valor, (int, float)) and valor >= 0:\n",
    "            self._saldo = valor\n",
    "        else:\n",
    "            raise ValueError(\"El saldo debe ser un número positivo\")\n",
    "\n",
    "# Uso correcto\n",
    "cuenta = CuentaBancaria(1000)\n",
    "print(cuenta.saldo)  # 1000\n",
    "\n",
    "# Ahora está protegido\n",
    "try:\n",
    "    cuenta.saldo = -500  # ValueError: El saldo debe ser un número positivo\n",
    "except ValueError as e:\n",
    "    print(e)\n",
    "\n",
    "try:\n",
    "    cuenta.saldo = \"hola\"  # ValueError\n",
    "except ValueError as e:\n",
    "    print(e)\n",
    "\n",
    "# Solo modificaciones válidas\n",
    "cuenta.saldo = 1500\n",
    "print(cuenta.saldo)  # 1500"
   ]
  },
  {
   "cell_type": "markdown",
   "id": "16b62f6c",
   "metadata": {},
   "source": [
    "# **Setters y Getters**\n",
    "\n",
    "Son métodos que nos permiten acceder (getter) y modificar (setter) los atributos de una clase de manera controlada."
   ]
  },
  {
   "cell_type": "markdown",
   "id": "f742d841",
   "metadata": {},
   "source": [
    "**Usando el decorador `@property`**"
   ]
  },
  {
   "cell_type": "code",
   "execution_count": null,
   "id": "6cb5f63e",
   "metadata": {},
   "outputs": [],
   "source": [
    "class Persona:\n",
    "    def __init__(self, nombre, edad):\n",
    "        self._nombre = nombre\n",
    "        self._edad = edad\n",
    "    \n",
    "    # GETTER - se convierte en propiedad\n",
    "    @property\n",
    "    def nombre(self):\n",
    "        return self._nombre\n",
    "    \n",
    "    # SETTER - para la propiedad nombre\n",
    "    @nombre.setter\n",
    "    def nombre(self, valor):\n",
    "        if len(valor) > 0:\n",
    "            self._nombre = valor\n",
    "        else:\n",
    "            print(\"El nombre no puede estar vacío\")\n",
    "    \n",
    "    @property\n",
    "    def edad(self):\n",
    "        return self._edad\n",
    "    \n",
    "    @edad.setter\n",
    "    def edad(self, valor):\n",
    "        if 0 <= valor <= 120:\n",
    "            self._edad = valor\n",
    "        else:\n",
    "            print(\"Edad no válida\")\n",
    "\n",
    "# Uso más natural\n",
    "persona = Persona(\"Carlos\", 28)\n",
    "\n",
    "# Se usa como atributo, pero llama a los métodos\n",
    "print(persona.nombre)  # Carlos - llama al getter\n",
    "print(persona.edad)    # 28 - llama al getter\n",
    "\n",
    "persona.nombre = \"Luis\"  # llama al setter\n",
    "persona.edad = 35        # llama al setter\n",
    "\n",
    "print(persona.nombre)  # Luis\n",
    "print(persona.edad)    # 35"
   ]
  },
  {
   "cell_type": "markdown",
   "id": "424b7e07",
   "metadata": {},
   "source": [
    "**Ventas de usar setters y getters**\n",
    "\n",
    "- **Validación:** Controlar qué valores se asignan\n",
    "\n",
    "- **Encapsulamiento:** Ocultar la implementación interna\n",
    "\n",
    "- **Flexibilidad:** Cambiar la implementación sin afectar el código que usa la clase\n",
    "\n",
    "- **Cálculos automáticos:** Propiedades que se calculan dinámicamente"
   ]
  },
  {
   "cell_type": "markdown",
   "id": "28835529",
   "metadata": {},
   "source": [
    "**Ejemplo con Atributo de Solo Lectura**"
   ]
  },
  {
   "cell_type": "code",
   "execution_count": null,
   "id": "d45045f6",
   "metadata": {},
   "outputs": [],
   "source": [
    "class Persona:\n",
    "    def __init__(self, nombre, año_nacimiento):\n",
    "        self._nombre = nombre\n",
    "        self._año_nacimiento = año_nacimiento\n",
    "    \n",
    "    # Propiedad de SOLO LECTURA (No tiene método setter)\n",
    "    @property\n",
    "    def edad(self):\n",
    "        return self._edad\n",
    "    \n",
    "    # Propiedad normal (lectura y escritura)\n",
    "    @property\n",
    "    def nombre(self):\n",
    "        return self._nombre\n",
    "    \n",
    "    @nombre.setter\n",
    "    def nombre(self, valor):\n",
    "        self._nombre = valor\n",
    "\n",
    "# Uso\n",
    "persona = Persona(\"Ana\", 1990)\n",
    "\n",
    "print(persona.nombre)  # Ana - se puede leer\n",
    "persona.nombre = \"María\"  # ✅ se puede modificar\n",
    "print(persona.nombre)  # María\n",
    "\n",
    "print(persona.edad)    # 34 - solo lectura\n",
    "# persona.edad = 25   # ❌ ERROR! No tiene setter, es solo lectura"
   ]
  }
 ],
 "metadata": {
  "language_info": {
   "name": "python"
  }
 },
 "nbformat": 4,
 "nbformat_minor": 5
}
