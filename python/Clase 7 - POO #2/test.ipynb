{
 "cells": [
  {
   "cell_type": "code",
   "execution_count": null,
   "id": "8eb903bc",
   "metadata": {},
   "outputs": [],
   "source": [
    "class Persona:\n",
    "    def __init__(self, nombre, apellido, edad):\n",
    "        self.nombre = nombre,\n",
    "        self.apellido = apellido,\n",
    "        self.edad = edad\n",
    "\n",
    "    "
   ]
  }
 ],
 "metadata": {
  "language_info": {
   "name": "python"
  }
 },
 "nbformat": 4,
 "nbformat_minor": 5
}
